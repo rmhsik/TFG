{
 "cells": [
  {
   "cell_type": "code",
   "execution_count": 1,
   "metadata": {},
   "outputs": [],
   "source": [
    "import numpy as np\n",
    "import matplotlib.pyplot as plt\n",
    "from scipy import integrate"
   ]
  },
  {
   "cell_type": "code",
   "execution_count": 3,
   "metadata": {},
   "outputs": [],
   "source": [
    "me = 1\n",
    "hbar = 1"
   ]
  },
  {
   "cell_type": "code",
   "execution_count": 388,
   "metadata": {},
   "outputs": [
    {
     "data": {
      "image/png": "[encoded data removed]",
      "text/plain": [
       "<Figure size 432x288 with 1 Axes>"
      ]
     },
     "metadata": {
      "needs_background": "light"
     },
     "output_type": "display_data"
    }
   ],
   "source": [
    "fig = plt.figure();\n",
    "ax = fig.add_subplot(111);\n",
    "\n",
    "N = 10000\n",
    "a = 0\n",
    "xmax = 10\n",
    "xmin = -10\n",
    "xl = np.linspace(xmin,a,N)\n",
    "xr = np.linspace(a,xmax,N)\n",
    "x = np.concatenate((xl,xr))\n",
    "PsiR = np.zeros(N)\n",
    "PsiL = np.zeros(N)\n",
    "v = np.zeros(2*N)\n",
    "for i in range(len(x)):\n",
    "    #w = 1\n",
    "    #v[i] = 1/2*me*w**2*(x[i])**2\n",
    "    if abs(x[i])<5:\n",
    "        v[i] = -1\n",
    "    else:\n",
    "        v[i]= 0\n",
    "ep = -0.965\n",
    "k2 = 2*me/hbar**2*(ep-v)\n",
    "l2 = (abs(xmax-xmin)/(2*N))**2\n",
    "\n",
    "def WaveFunction(k2,N,psil,psir): ### FINALLY IT WORKS!!\n",
    "    psil[0]=0\n",
    "    psil[1] = 1E-7\n",
    "    psir[-1] = 0\n",
    "    psir[-2] = 1E-7 # negative for odd parity eigenfunctions\n",
    "    for i in range(2,N):\n",
    "        psil[i] = (2*(1-(5.0/12)*l2*k2[i-1])*psil[i-1]-(1+(1.0/12)*l2*k2[i-2])*psil[i-2])/(1+(1.0/12)*l2*k2[i])\n",
    "    for i in range(3,N+1): #The minus in indexes indicates that we start from right to the left\n",
    "        psir[-i] = (2*(1-(5.0/12)*l2*k2[-i+1])*psir[-i+1]-(1+(1.0/12)*l2*k2[-i+2])*psir[-i+2])/(1+(1.0/12)*l2*k2[-i])\n",
    "    return psil,psir\n",
    "\n",
    "psi = WaveFunction(k2,N,PsiL,PsiR)\n",
    "psi0 = psi\n",
    "ax.plot(xl,psi1[0]-0.85)\n",
    "ax.plot(xr,psi1[1]-0.85)\n",
    "ax.plot(xl,psi0[0]+ep)\n",
    "ax.plot(xr,psi0[1]+ep)\n",
    "ax.plot(x,v)\n",
    "ax.plot(x,ep*np.ones(2*N),'--')\n",
    "ax.plot(x,-0.85*np.ones(2*N),'--')\n",
    "plt.show()\n"
   ]
  },
  {
   "cell_type": "code",
   "execution_count": 138,
   "metadata": {},
   "outputs": [
    {
     "name": "stdout",
     "output_type": "stream",
     "text": [
      "9.094947017729283e-16\n"
     ]
    },
    {
     "data": {
      "text/plain": [
       "0.7078145953389752"
      ]
     },
     "execution_count": 138,
     "metadata": {},
     "output_type": "execute_result"
    }
   ],
   "source": [
    "def Shooting(eps,deps,N):\n",
    "    k2 = 2*me/hbar**2*(eps-v)\n",
    "    psi = WaveFunction(k2,N)\n",
    "    P1 = psi[N-1]\n",
    "    eps += deps\n",
    "    while abs(deps) > 1E-15:\n",
    "        k2 = g2*(eps-v)\n",
    "        psi = WaveFunction(k2,N)\n",
    "        P2 = psi[N-1]\n",
    "        \n",
    "        if (P2*P1)<0:\n",
    "            deps = -deps/2.0\n",
    "        eps = eps + deps\n",
    "        P1 = P2\n",
    "    print(deps)\n",
    "    return eps\n",
    "\n",
    "def normal(psi):\n",
    "    psi2 = psi*psi\n",
    "    return integrate.simps(psi2)\n",
    "ep = Shooting(0,1E-3,N)\n",
    "ep"
   ]
  },
  {
   "cell_type": "code",
   "execution_count": 139,
   "metadata": {},
   "outputs": [
    {
     "data": {
      "image/png": "[encoded data removed]",
      "text/plain": [
       "<Figure size 432x288 with 1 Axes>"
      ]
     },
     "metadata": {
      "needs_background": "light"
     },
     "output_type": "display_data"
    }
   ],
   "source": [
    "fig = plt.figure();\n",
    "ax = fig.add_subplot(111);\n",
    "\n",
    "k2 = 2*me/hbar**2*(ep-v)\n",
    "psi = WaveFunction(k2,N)\n",
    "psin = psi/np.sqrt(normal(psi*psi))\n",
    "\n",
    "#ax.plot(range(N),v)\n",
    "ax.plot(x,psin)\n",
    "#ax.set_ylim(0,25)\n",
    "#ax.set_xlim(400,600)\n",
    "plt.show()"
   ]
  },
  {
   "cell_type": "code",
   "execution_count": 93,
   "metadata": {},
   "outputs": [
    {
     "data": {
      "text/plain": [
       "2.28229999382848"
      ]
     },
     "execution_count": 93,
     "metadata": {},
     "output_type": "execute_result"
    }
   ],
   "source": [
    "integrate.simps(psi*psin)"
   ]
  },
  {
   "cell_type": "code",
   "execution_count": 282,
   "metadata": {},
   "outputs": [],
   "source": [
    "psi[0]=0\n",
    "psi[1] = 1E-5\n",
    "#psir[N-1] = 0\n",
    "#psir[N-2] = 1E-5\n",
    "i = 3\n",
    "psi[i] = (2*(1-(5.0/12)*l2*k2[i-1])*Psi[i-1]-(1+(1.0/12)*l2*k2[i-2])*Psi[i-2])/(1+(1.0/12)*l2*k2[i])"
   ]
  },
  {
   "cell_type": "code",
   "execution_count": 116,
   "metadata": {},
   "outputs": [
    {
     "data": {
      "text/plain": [
       "-9.93993993993994"
      ]
     },
     "execution_count": 116,
     "metadata": {},
     "output_type": "execute_result"
    }
   ],
   "source": [
    "x[3]"
   ]
  },
  {
   "cell_type": "code",
   "execution_count": 128,
   "metadata": {},
   "outputs": [
    {
     "data": {
      "text/plain": [
       "2"
      ]
     },
     "execution_count": 128,
     "metadata": {},
     "output_type": "execute_result"
    }
   ],
   "source": [
    "range(2,N)[0]"
   ]
  },
  {
   "cell_type": "code",
   "execution_count": 146,
   "metadata": {},
   "outputs": [
    {
     "data": {
      "text/plain": [
       "-1.0110110110110107"
      ]
     },
     "execution_count": 146,
     "metadata": {},
     "output_type": "execute_result"
    }
   ],
   "source": [
    "449"
   ]
  },
  {
   "cell_type": "code",
   "execution_count": 211,
   "metadata": {},
   "outputs": [
    {
     "data": {
      "text/plain": [
       "100000"
      ]
     },
     "execution_count": 211,
     "metadata": {},
     "output_type": "execute_result"
    }
   ],
   "source": [
    "len(psi)"
   ]
  },
  {
   "cell_type": "code",
   "execution_count": 226,
   "metadata": {},
   "outputs": [
    {
     "data": {
      "text/plain": [
       "10000"
      ]
     },
     "execution_count": 226,
     "metadata": {},
     "output_type": "execute_result"
    }
   ],
   "source": [
    "Psi"
   ]
  },
  {
   "cell_type": "code",
   "execution_count": 247,
   "metadata": {},
   "outputs": [
    {
     "data": {
      "text/plain": [
       "20000"
      ]
     },
     "execution_count": 247,
     "metadata": {},
     "output_type": "execute_result"
    }
   ],
   "source": [
    "len(x)"
   ]
  },
  {
   "cell_type": "code",
   "execution_count": null,
   "metadata": {},
   "outputs": [],
   "source": []
  }
 ],
 "metadata": {
  "kernelspec": {
   "display_name": "TFG",
   "language": "python",
   "name": "tfg"
  },
  "language_info": {
   "codemirror_mode": {
    "name": "ipython",
    "version": 3
   },
   "file_extension": ".py",
   "mimetype": "text/x-python",
   "name": "python",
   "nbconvert_exporter": "python",
   "pygments_lexer": "ipython3",
   "version": "3.7.3"
  }
 },
 "nbformat": 4,
 "nbformat_minor": 2
}
