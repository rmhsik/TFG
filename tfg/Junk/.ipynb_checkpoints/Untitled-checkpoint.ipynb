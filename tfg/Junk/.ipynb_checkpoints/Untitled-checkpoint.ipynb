{
 "cells": [
  {
   "cell_type": "markdown",
   "metadata": {},
   "source": [
    "<h1>Resolviendo la ecuacion de Schrödinger unidimensional. Algoritmo de Numerov</h1>"
   ]
  },
  {
   "cell_type": "code",
   "execution_count": 1,
   "metadata": {},
   "outputs": [],
   "source": [
    "import numpy as np\n",
    "import matplotlib.pyplot as plt\n",
    "#from math import inf\n",
    "np.seterr(all='raise');"
   ]
  },
  {
   "cell_type": "markdown",
   "metadata": {},
   "source": [
    "<h3>Definición de las constantes</h3>\n",
    "Se usarán los valores de las constantes en unidades atómicas"
   ]
  },
  {
   "cell_type": "code",
   "execution_count": 2,
   "metadata": {},
   "outputs": [],
   "source": [
    "hbar=1 # reduced Planck constant (eV·s)\n",
    "c = 299792458 # speed of light m/s\n",
    "me = 1 #electron mass (ev/c²)\n",
    "delta = 1E-3 #paso para cada energía\n",
    "epsilon = 1E-4 #error máximo permitido\n",
    "inf = 1E250"
   ]
  },
  {
   "cell_type": "markdown",
   "metadata": {},
   "source": [
    "<h3> Función del potencial </h3>\n",
    "En la siguiente función se definirá la función correspodiente al potencial del sistema. Esta dependerá unicamente de la variable $x$ por tratarse de potenciales unidimensionales."
   ]
  },
  {
   "cell_type": "code",
   "execution_count": 6,
   "metadata": {},
   "outputs": [],
   "source": [
    "def V(x):\n",
    "   return (0.5*1*x**2)"
   ]
  },
  {
   "cell_type": "code",
   "execution_count": null,
   "metadata": {},
   "outputs": [],
   "source": []
  },
  {
   "cell_type": "markdown",
   "metadata": {},
   "source": [
    "<h3> Funcion $g(x)$ y $s(x)$ empleada en el algoritmo de Numerov </h3>\n",
    "Tomemos la ecuación de Schrödinger unidimensional: \n",
    "<br>\n",
    "$$ -\\frac{\\hbar^2}{2m}\\frac{d^2 \\psi}{dx^2} + V(x)\\psi(x) = E\\psi(x)$$\n",
    "<br>\n",
    "y reordenando los terminos en $\\psi(x)$:\n",
    "<br>\n",
    "$$ \\frac{d^2 \\psi}{dx^2} +(E-V(x))\\psi(x) $$\n",
    "<br>\n",
    "Donde se ha empleado el sistema de unidades atómias de Rydberg $(\\hbar = 1; m_e =\\frac{1}{2})$\n",
    "<br>\n",
    "Comparando la expresión anterior con el tipo de ecuaciones validas para el algoritmo de Numerov: $\\frac{d^2 y}{dx^2}+g(x)y(x)-s(x)=0$ , vemos que:\n",
    "<br>\n",
    "$$ g(x) \\equiv E - V(x)$$\n",
    "<br>\n",
    "$$s(x) \\equiv 0$$"
   ]
  },
  {
   "cell_type": "code",
   "execution_count": 4,
   "metadata": {},
   "outputs": [],
   "source": [
    "def g(E,x):\n",
    "    return -(E-V(x))\n",
    "def s(x):\n",
    "    return 0"
   ]
  },
  {
   "cell_type": "markdown",
   "metadata": {},
   "source": [
    "<h3> Generador del mallado unidimensional equiespaciado </h3>"
   ]
  },
  {
   "cell_type": "markdown",
   "metadata": {},
   "source": [
    "Se definirá una función para crear un array de valores equiespaciados que corresponderá con el mallado que posteriormente se usará para aplicar el algoritmo de Numerov:"
   ]
  },
  {
   "cell_type": "code",
   "execution_count": 3,
   "metadata": {},
   "outputs": [],
   "source": [
    "def mesh(xa,xb,n):\n",
    "    return np.linspace(xa,xb,n,endpoint=True,retstep=True)"
   ]
  },
  {
   "cell_type": "markdown",
   "metadata": {},
   "source": [
    "<h3>Método de la secante</h3>"
   ]
  },
  {
   "cell_type": "code",
   "execution_count": 6,
   "metadata": {},
   "outputs": [],
   "source": [
    "def secant(f,a_1,a_2,epsilon):\n",
    "    a=1000\n",
    "    \n",
    "    while abs(a-a_1)>epsilon:\n",
    "        a = a_1 - f(a_1)*(a_1-a_2)/(f(a_1)-f(a_2))\n",
    "        a_2 = a_1\n",
    "        a_1 = a\n",
    "    return a\n",
    "def differenciate(f,x):\n",
    "    h=0.01\n",
    "    return (f(x+h)-f(x))/h\n"
   ]
  },
  {
   "cell_type": "markdown",
   "metadata": {},
   "source": [
    "<h3>Cálculo de la función de onda en el <i>iésimo</i> punto</h3>\n",
    "El método de numerov nos permite resolver la ecuación diferencial presentada anteriormente de una forma iterativa en la posición. Por lo tanto para calcular el puto <i>iésimo + 1 </i> nos bastará con conocer el punto justamente anterior. Analíticamente toma la siguiente forma: \n",
    "<br> \n",
    "$$y_{i+1} = \\frac{2y_i\\left(1- \\frac{5 h^2}{12}g_i\\right)-y_{i-1}\\left(1+\\frac{h^2}{12}g_{i-1}\\right)+\\frac{h^2}{15}(s_{i+1}+10s_i+s_{i-1})}{1+\\frac{h^2}{12}g_{i+1}}$$\n",
    "<br>\n",
    "Donde $h$ es el paso de del mallado"
   ]
  },
  {
   "cell_type": "markdown",
   "metadata": {},
   "source": [
    "<h1> FixMe: cambiar g por g_i.\n",
    "            Cambiar psi por psi_temp y reasignar en cada iteración"
   ]
  },
  {
   "cell_type": "code",
   "execution_count": 4,
   "metadata": {
    "scrolled": true
   },
   "outputs": [],
   "source": [
    "def numerov(x,E):\n",
    "    #print(x[0])\n",
    "    h = x[1]\n",
    "    psi1 = np.zeros(int(len(x[0])/2))\n",
    "    psi2 = np.zeros(int(len(x[0])/2))\n",
    "    \n",
    "    for i in range(int(len(x[0])/2)):\n",
    "        #g_i = g(E,x[0])\n",
    "        #psi_temp = np.array([])\n",
    "               \n",
    "        if i==0:\n",
    "            psi1[i] = 0\n",
    "            psi2[-i-1] = 0\n",
    "            #print(\"x:\" +str(x[0][i]) + \" psi: \"+ str(psi[i]))\n",
    "        elif i==1:\n",
    "            psi1[i] = 0.01\n",
    "            psi2[-i-1] = 0.01\n",
    "            #print(\"x:\" +str(x[0][i]) + \" psi: \"+ str(psi[i]))\n",
    "        else:\n",
    "            psi1[i] = (2*psi1[i-1]*(1-5*(h**2/12)*g(E,x[0][i-1]))-psi1[i-2]*(1+h**2/12*g(E,x[0][i-2])))/(1+(h**2/12)*g(E,x[0][i]))\n",
    "            psi2[-i-1] = (2*psi2[-i]*(1-5*(h**2/12)*g(E,x[0][-i]))-psi2[-i+1]*(1+h**2/12*g(E,x[0][-i+1])))/(1+(h**2/12)*g(E,x[0][-i-1]))\n",
    "\n",
    "\n",
    "    return (psi1,psi2)\n",
    "                                                                                                    "
   ]
  },
  {
   "cell_type": "code",
   "execution_count": 5,
   "metadata": {
    "scrolled": false
   },
   "outputs": [
    {
     "ename": "NameError",
     "evalue": "name 'g' is not defined",
     "output_type": "error",
     "traceback": [
      "\u001b[0;31m---------------------------------------------------------------------------\u001b[0m",
      "\u001b[0;31mNameError\u001b[0m                                 Traceback (most recent call last)",
      "\u001b[0;32m<ipython-input-5-fa515fb22932>\u001b[0m in \u001b[0;36m<module>\u001b[0;34m\u001b[0m\n\u001b[1;32m      6\u001b[0m \u001b[0mE\u001b[0m \u001b[0;34m=\u001b[0m \u001b[0;36m0.5\u001b[0m\u001b[0;34m\u001b[0m\u001b[0;34m\u001b[0m\u001b[0m\n\u001b[1;32m      7\u001b[0m \u001b[0mi\u001b[0m \u001b[0;34m=\u001b[0m \u001b[0;36m0\u001b[0m\u001b[0;34m\u001b[0m\u001b[0;34m\u001b[0m\u001b[0m\n\u001b[0;32m----> 8\u001b[0;31m \u001b[0mpsi\u001b[0m \u001b[0;34m=\u001b[0m \u001b[0mnumerov\u001b[0m\u001b[0;34m(\u001b[0m\u001b[0mxk\u001b[0m\u001b[0;34m,\u001b[0m\u001b[0mE\u001b[0m\u001b[0;34m)\u001b[0m\u001b[0;34m\u001b[0m\u001b[0;34m\u001b[0m\u001b[0m\n\u001b[0m\u001b[1;32m      9\u001b[0m \u001b[0;31m#i=20\u001b[0m\u001b[0;34m\u001b[0m\u001b[0;34m\u001b[0m\u001b[0;34m\u001b[0m\u001b[0m\n\u001b[1;32m     10\u001b[0m \u001b[0;31m#psi[-i-1] = (2*psi[-i-2]*(1-5*(h**2/12)*g(E,x[0][-i-2]))-psi[-i-3]*(1+h**2/12*g(E,x[0][-i-3])))/(1+(h**2/12)*g(E,x[0][-i-1]))\u001b[0m\u001b[0;34m\u001b[0m\u001b[0;34m\u001b[0m\u001b[0;34m\u001b[0m\u001b[0m\n",
      "\u001b[0;32m<ipython-input-4-b73fa4005530>\u001b[0m in \u001b[0;36mnumerov\u001b[0;34m(x, E)\u001b[0m\n\u001b[1;32m     18\u001b[0m             \u001b[0;31m#print(\"x:\" +str(x[0][i]) + \" psi: \"+ str(psi[i]))\u001b[0m\u001b[0;34m\u001b[0m\u001b[0;34m\u001b[0m\u001b[0;34m\u001b[0m\u001b[0m\n\u001b[1;32m     19\u001b[0m         \u001b[0;32melse\u001b[0m\u001b[0;34m:\u001b[0m\u001b[0;34m\u001b[0m\u001b[0;34m\u001b[0m\u001b[0m\n\u001b[0;32m---> 20\u001b[0;31m             \u001b[0mpsi1\u001b[0m\u001b[0;34m[\u001b[0m\u001b[0mi\u001b[0m\u001b[0;34m]\u001b[0m \u001b[0;34m=\u001b[0m \u001b[0;34m(\u001b[0m\u001b[0;36m2\u001b[0m\u001b[0;34m*\u001b[0m\u001b[0mpsi1\u001b[0m\u001b[0;34m[\u001b[0m\u001b[0mi\u001b[0m\u001b[0;34m-\u001b[0m\u001b[0;36m1\u001b[0m\u001b[0;34m]\u001b[0m\u001b[0;34m*\u001b[0m\u001b[0;34m(\u001b[0m\u001b[0;36m1\u001b[0m\u001b[0;34m-\u001b[0m\u001b[0;36m5\u001b[0m\u001b[0;34m*\u001b[0m\u001b[0;34m(\u001b[0m\u001b[0mh\u001b[0m\u001b[0;34m**\u001b[0m\u001b[0;36m2\u001b[0m\u001b[0;34m/\u001b[0m\u001b[0;36m12\u001b[0m\u001b[0;34m)\u001b[0m\u001b[0;34m*\u001b[0m\u001b[0mg\u001b[0m\u001b[0;34m(\u001b[0m\u001b[0mE\u001b[0m\u001b[0;34m,\u001b[0m\u001b[0mx\u001b[0m\u001b[0;34m[\u001b[0m\u001b[0;36m0\u001b[0m\u001b[0;34m]\u001b[0m\u001b[0;34m[\u001b[0m\u001b[0mi\u001b[0m\u001b[0;34m-\u001b[0m\u001b[0;36m1\u001b[0m\u001b[0;34m]\u001b[0m\u001b[0;34m)\u001b[0m\u001b[0;34m)\u001b[0m\u001b[0;34m-\u001b[0m\u001b[0mpsi1\u001b[0m\u001b[0;34m[\u001b[0m\u001b[0mi\u001b[0m\u001b[0;34m-\u001b[0m\u001b[0;36m2\u001b[0m\u001b[0;34m]\u001b[0m\u001b[0;34m*\u001b[0m\u001b[0;34m(\u001b[0m\u001b[0;36m1\u001b[0m\u001b[0;34m+\u001b[0m\u001b[0mh\u001b[0m\u001b[0;34m**\u001b[0m\u001b[0;36m2\u001b[0m\u001b[0;34m/\u001b[0m\u001b[0;36m12\u001b[0m\u001b[0;34m*\u001b[0m\u001b[0mg\u001b[0m\u001b[0;34m(\u001b[0m\u001b[0mE\u001b[0m\u001b[0;34m,\u001b[0m\u001b[0mx\u001b[0m\u001b[0;34m[\u001b[0m\u001b[0;36m0\u001b[0m\u001b[0;34m]\u001b[0m\u001b[0;34m[\u001b[0m\u001b[0mi\u001b[0m\u001b[0;34m-\u001b[0m\u001b[0;36m2\u001b[0m\u001b[0;34m]\u001b[0m\u001b[0;34m)\u001b[0m\u001b[0;34m)\u001b[0m\u001b[0;34m)\u001b[0m\u001b[0;34m/\u001b[0m\u001b[0;34m(\u001b[0m\u001b[0;36m1\u001b[0m\u001b[0;34m+\u001b[0m\u001b[0;34m(\u001b[0m\u001b[0mh\u001b[0m\u001b[0;34m**\u001b[0m\u001b[0;36m2\u001b[0m\u001b[0;34m/\u001b[0m\u001b[0;36m12\u001b[0m\u001b[0;34m)\u001b[0m\u001b[0;34m*\u001b[0m\u001b[0mg\u001b[0m\u001b[0;34m(\u001b[0m\u001b[0mE\u001b[0m\u001b[0;34m,\u001b[0m\u001b[0mx\u001b[0m\u001b[0;34m[\u001b[0m\u001b[0;36m0\u001b[0m\u001b[0;34m]\u001b[0m\u001b[0;34m[\u001b[0m\u001b[0mi\u001b[0m\u001b[0;34m]\u001b[0m\u001b[0;34m)\u001b[0m\u001b[0;34m)\u001b[0m\u001b[0;34m\u001b[0m\u001b[0;34m\u001b[0m\u001b[0m\n\u001b[0m\u001b[1;32m     21\u001b[0m             \u001b[0mpsi2\u001b[0m\u001b[0;34m[\u001b[0m\u001b[0;34m-\u001b[0m\u001b[0mi\u001b[0m\u001b[0;34m-\u001b[0m\u001b[0;36m1\u001b[0m\u001b[0;34m]\u001b[0m \u001b[0;34m=\u001b[0m \u001b[0;34m(\u001b[0m\u001b[0;36m2\u001b[0m\u001b[0;34m*\u001b[0m\u001b[0mpsi2\u001b[0m\u001b[0;34m[\u001b[0m\u001b[0;34m-\u001b[0m\u001b[0mi\u001b[0m\u001b[0;34m]\u001b[0m\u001b[0;34m*\u001b[0m\u001b[0;34m(\u001b[0m\u001b[0;36m1\u001b[0m\u001b[0;34m-\u001b[0m\u001b[0;36m5\u001b[0m\u001b[0;34m*\u001b[0m\u001b[0;34m(\u001b[0m\u001b[0mh\u001b[0m\u001b[0;34m**\u001b[0m\u001b[0;36m2\u001b[0m\u001b[0;34m/\u001b[0m\u001b[0;36m12\u001b[0m\u001b[0;34m)\u001b[0m\u001b[0;34m*\u001b[0m\u001b[0mg\u001b[0m\u001b[0;34m(\u001b[0m\u001b[0mE\u001b[0m\u001b[0;34m,\u001b[0m\u001b[0mx\u001b[0m\u001b[0;34m[\u001b[0m\u001b[0;36m0\u001b[0m\u001b[0;34m]\u001b[0m\u001b[0;34m[\u001b[0m\u001b[0;34m-\u001b[0m\u001b[0mi\u001b[0m\u001b[0;34m]\u001b[0m\u001b[0;34m)\u001b[0m\u001b[0;34m)\u001b[0m\u001b[0;34m-\u001b[0m\u001b[0mpsi2\u001b[0m\u001b[0;34m[\u001b[0m\u001b[0;34m-\u001b[0m\u001b[0mi\u001b[0m\u001b[0;34m+\u001b[0m\u001b[0;36m1\u001b[0m\u001b[0;34m]\u001b[0m\u001b[0;34m*\u001b[0m\u001b[0;34m(\u001b[0m\u001b[0;36m1\u001b[0m\u001b[0;34m+\u001b[0m\u001b[0mh\u001b[0m\u001b[0;34m**\u001b[0m\u001b[0;36m2\u001b[0m\u001b[0;34m/\u001b[0m\u001b[0;36m12\u001b[0m\u001b[0;34m*\u001b[0m\u001b[0mg\u001b[0m\u001b[0;34m(\u001b[0m\u001b[0mE\u001b[0m\u001b[0;34m,\u001b[0m\u001b[0mx\u001b[0m\u001b[0;34m[\u001b[0m\u001b[0;36m0\u001b[0m\u001b[0;34m]\u001b[0m\u001b[0;34m[\u001b[0m\u001b[0;34m-\u001b[0m\u001b[0mi\u001b[0m\u001b[0;34m+\u001b[0m\u001b[0;36m1\u001b[0m\u001b[0;34m]\u001b[0m\u001b[0;34m)\u001b[0m\u001b[0;34m)\u001b[0m\u001b[0;34m)\u001b[0m\u001b[0;34m/\u001b[0m\u001b[0;34m(\u001b[0m\u001b[0;36m1\u001b[0m\u001b[0;34m+\u001b[0m\u001b[0;34m(\u001b[0m\u001b[0mh\u001b[0m\u001b[0;34m**\u001b[0m\u001b[0;36m2\u001b[0m\u001b[0;34m/\u001b[0m\u001b[0;36m12\u001b[0m\u001b[0;34m)\u001b[0m\u001b[0;34m*\u001b[0m\u001b[0mg\u001b[0m\u001b[0;34m(\u001b[0m\u001b[0mE\u001b[0m\u001b[0;34m,\u001b[0m\u001b[0mx\u001b[0m\u001b[0;34m[\u001b[0m\u001b[0;36m0\u001b[0m\u001b[0;34m]\u001b[0m\u001b[0;34m[\u001b[0m\u001b[0;34m-\u001b[0m\u001b[0mi\u001b[0m\u001b[0;34m-\u001b[0m\u001b[0;36m1\u001b[0m\u001b[0;34m]\u001b[0m\u001b[0;34m)\u001b[0m\u001b[0;34m)\u001b[0m\u001b[0;34m\u001b[0m\u001b[0;34m\u001b[0m\u001b[0m\n\u001b[1;32m     22\u001b[0m \u001b[0;34m\u001b[0m\u001b[0m\n",
      "\u001b[0;31mNameError\u001b[0m: name 'g' is not defined"
     ]
    }
   ],
   "source": [
    "xmin = -4\n",
    "xmax = 4\n",
    "xk = mesh(xmin,xmax,1000)\n",
    "h = xk[1]\n",
    "psi = np.zeros(101)\n",
    "E = 0.5\n",
    "i = 0\n",
    "psi = numerov(xk,E)\n",
    "#i=20\n",
    "#psi[-i-1] = (2*psi[-i-2]*(1-5*(h**2/12)*g(E,x[0][-i-2]))-psi[-i-3]*(1+h**2/12*g(E,x[0][-i-3])))/(1+(h**2/12)*g(E,x[0][-i-1]))\n",
    "#psiL = numerov(x,E)[0]\n",
    "#psiR = numerov(x,E)[1]\n",
    "#dpsiL = (numerov(x,E+0.01)[0] - numerov(x,E)[0])/0.01\n",
    "#dpsiL = (numerov(x,E+0.01)[1] - numerov(x,E)[1])/0.01\n",
    "\n",
    "def f(E):\n",
    "    psiL = numerov(xk,E)[0][-1]\n",
    "    psiR = numerov(xk,E)[1][0]\n",
    "    dpsiL = (numerov(xk,E+0.01)[0][-1] - numerov(xk,E)[0][-1])/0.01\n",
    "    dpsiR = (numerov(xk,E+0.01)[1][-1] - numerov(xk,E)[1][0])/0.01\n",
    "    \n",
    "    return dpsiL/psiL - dpsiR/psiR\n",
    "\n",
    "E_temp = secant(f,1,2,0.05)\n",
    "#psi2=psi2*1E-42\n",
    "E_temp\n",
    "psiL = numerov(xk,E_temp)[0]\n",
    "psiR = numerov(xk,E_temp)[1]\n",
    "E_temp"
   ]
  },
  {
   "cell_type": "code",
   "execution_count": 12,
   "metadata": {},
   "outputs": [
    {
     "data": {
      "text/plain": [
       "[<matplotlib.lines.Line2D at 0x7fba77c17fd0>]"
      ]
     },
     "execution_count": 12,
     "metadata": {},
     "output_type": "execute_result"
    },
    {
     "data": {
      "image/png": "[encoded data removed]",
      "text/plain": [
       "<matplotlib.figure.Figure at 0x7fba77c17f98>"
      ]
     },
     "metadata": {},
     "output_type": "display_data"
    }
   ],
   "source": [
    "x1=xk[0][0:int(len(xk[0])/2)]\n",
    "x2=xk[0][int(len(xk[0])/2):-1]\n",
    "plt.plot(x1,psiL)\n",
    "plt.plot(x2,psiR)\n"
   ]
  },
  {
   "cell_type": "markdown",
   "metadata": {},
   "source": [
    "## \n",
    "<h3>Comprobación funciones de contorno </h3>\n",
    "Por último quedara comprobar que la función de onda en el punto más alejado debe anularse (cóndicion de funcion de onda de cuadrado integrable). Matemáticamente  puede traducirse por:\n",
    "$$\\psi(x_{max}) \\approx 0$$"
   ]
  },
  {
   "cell_type": "code",
   "execution_count": null,
   "metadata": {},
   "outputs": [],
   "source": [
    "def check(psi,gamma):\n",
    "    print(abs(psi[-1]-gamma))\n",
    "    return True if (abs(psi[-1]) <= gamma) else False"
   ]
  },
  {
   "cell_type": "markdown",
   "metadata": {},
   "source": [
    "<h3> Poniendo todo junto </h3>\n"
   ]
  },
  {
   "cell_type": "code",
   "execution_count": null,
   "metadata": {},
   "outputs": [],
   "source": [
    "def main():\n",
    "    energy_guess = 0.0001 #primera energía con la que se trabajará\n",
    "    energy_values = [] #viariable en la que se guardarán los valores de las autoenergías\n",
    "    psi_stack = []\n",
    "    n = 5 #número de autoenergías que se desean buscar\n",
    "    psi_temp = np.array([])\n",
    "    conditional = True #Variable de control\n",
    "    #variable que tomará el valor de las energias a medida que se ejecuta el algoritmo\n",
    "    energy_temp = energy_guess\n",
    "    \n",
    "  \n",
    "    #puntos de corte de la energía con V(x). En el caso del pozo infinito los puntos serán fijos para todas las energías posibles.\n",
    "    xa = 0\n",
    "    xb = 4\n",
    "\n",
    "    #puntos máximos y minimos. Será necesario irse a punos lo suficientemente dentro de la zona clasicamente prohibida\n",
    "    xmin = xa-20\n",
    "    xmax = xb + 20\n",
    "\n",
    "    #crearemos la malla con los puntos en los que se calculará la función de onda\n",
    "    x = mesh(xmin,xmax,100)\n",
    "\n",
    "    #definimos las dos primeras condiciones iniciales\n",
    "\n",
    "    #comenzamos con el proceso iterativo\n",
    "    while conditional == True:\n",
    "        psi = numerov(psi_temp,x,energy_temp)\n",
    "        print(\"psi[-1]: \" + str(psi[-1]))\n",
    "        print (energy_temp)\n",
    "        if check(psi,epsilon):\n",
    "            conditional = False\n",
    "        else:\n",
    "            energy_temp += delta\n",
    "    #energy_values.append(energy_temp)\n",
    "    #psi_stack.append(psi)\n",
    "    #energy_temp += delta"
   ]
  },
  {
   "cell_type": "markdown",
   "metadata": {},
   "source": [
    "main()"
   ]
  },
  {
   "cell_type": "code",
   "execution_count": null,
   "metadata": {},
   "outputs": [],
   "source": [
    "main()"
   ]
  },
  {
   "cell_type": "code",
   "execution_count": null,
   "metadata": {},
   "outputs": [],
   "source": [
    "\n"
   ]
  },
  {
   "cell_type": "code",
   "execution_count": null,
   "metadata": {},
   "outputs": [],
   "source": [
    "epsilon\n",
    "\n"
   ]
  },
  {
   "cell_type": "code",
   "execution_count": null,
   "metadata": {},
   "outputs": [],
   "source": [
    "\n"
   ]
  }
 ],
 "metadata": {
  "kernelspec": {
   "display_name": "TFG",
   "language": "python",
   "name": "tfg"
  },
  "language_info": {
   "codemirror_mode": {
    "name": "ipython",
    "version": 3
   },
   "file_extension": ".py",
   "mimetype": "text/x-python",
   "name": "python",
   "nbconvert_exporter": "python",
   "pygments_lexer": "ipython3",
   "version": "3.7.3"
  }
 },
 "nbformat": 4,
 "nbformat_minor": 2
}
