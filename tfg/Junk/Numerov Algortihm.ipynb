{
 "cells": [
  {
   "cell_type": "code",
   "execution_count": 1,
   "metadata": {},
   "outputs": [],
   "source": [
    "import numpy as np\n",
    "import matplotlib.pyplot as plt\n",
    "from scipy import integrate\n",
    "from potential import V\n",
    "import Numerov"
   ]
  },
  {
   "cell_type": "code",
   "execution_count": 2,
   "metadata": {},
   "outputs": [],
   "source": [
    "me = 1\n",
    "hbar = 1"
   ]
  },
  {
   "cell_type": "code",
   "execution_count": 5,
   "metadata": {},
   "outputs": [
    {
     "data": {
      "image/png": "[encoded data removed]",
      "text/plain": [
       "<Figure size 432x288 with 1 Axes>"
      ]
     },
     "metadata": {
      "needs_background": "light"
     },
     "output_type": "display_data"
    }
   ],
   "source": [
    "fig = plt.figure();\n",
    "ax = fig.add_subplot(111);\n",
    "\n",
    "N = 10000\n",
    "a = 2\n",
    "xmax = 10\n",
    "xmin = -10\n",
    "\n",
    "xl = np.linspace(xmin,a,N)\n",
    "xr = np.linspace(a,xmax,N)\n",
    "x = np.concatenate((xl,xr))\n",
    "PsiR = np.zeros(N)\n",
    "PsiL = np.zeros(N)\n",
    "v = np.zeros(2*N)\n",
    "for i in range(len(x)):\n",
    "    #w = 1\n",
    "    #v[i] = 1/2*me*w**2*(x[i])**2\n",
    "    if abs(x[i])<5:\n",
    "        v[i] = -1\n",
    "    else:\n",
    "        v[i]= 0\n",
    "ep = -0.965\n",
    "k2 = 2*me/hbar**2*(ep-v)\n",
    "h2 = (abs(xmax-xmin)/(2*N))**2\n",
    "\n",
    "def WaveFunction(k2,N,psil,psir): ### FINALLY IT WORKS!!\n",
    "    psil[0]=0\n",
    "    psil[1] = 1E-7\n",
    "    psir[-1] = 0\n",
    "    psir[-2] = 1E-7 # negative for odd parity eigenfunctions\n",
    "    for i in range(2,N):\n",
    "        psil[i] = (2*(1-(5.0/12)*h2*k2[i-1])*psil[i-1]-(1+(1.0/12)*h2*k2[i-2])*psil[i-2])/(1+(1.0/12)*h2*k2[i])\n",
    "    for i in range(3,N+1): #The minus in indexes indicates that we start from right to the left\n",
    "        psir[-i] = (2*(1-(5.0/12)*h2*k2[-i+1])*psir[-i+1]-(1+(1.0/12)*h2*k2[-i+2])*psir[-i+2])/(1+(1.0/12)*h2*k2[-i])\n",
    "    return psil,psir\n",
    "\n",
    "psi0 = WaveFunction(k2,N,PsiL,PsiR)\n",
    "ax.plot(xl,psi0[0]+ep)\n",
    "ax.plot(xr,psi0[1]+ep)\n",
    "ax.plot(x,v)\n",
    "ax.plot(x,ep*np.ones(2*N),'--')\n",
    "#ax.plot(x,-0.85*np.ones(2*N),'--')\n",
    "plt.show()\n"
   ]
  },
  {
   "cell_type": "code",
   "execution_count": null,
   "metadata": {},
   "outputs": [],
   "source": [
    "def fEven(numerov,ep):\n",
    "    numerov.ep = ep\n",
    "    psi = numerov.EvenWaveFunction()\n",
    "    psin = psi/np.sqrt(numerov.normalize(psi))\n",
    "    return (psin[0][-1]-psin[1][0])+(numerov.LDerivate(psin[0],-1)-numerov.RDerivate(psin[1],0))\n",
    "\n",
    "def fOdd(numerov,ep):\n",
    "    numerov.ep = ep\n",
    "    psi = numerov.OddWaveFunction()\n",
    "    psin = psi/np.sqrt(numerov.normalize(psi))\n",
    "    return (psin[0][-1]-psin[1][0])+(numerov.LDerivate(psin[0],-1)-numerov.RDerivate(psin[1],0))\n",
    "\n",
    "def ShootingEven(numerov,eps1,eps2,deps):\n",
    "    ep0 = eps1\n",
    "    ep1 = eps2\n",
    "    while abs(ep1-ep0)>deps:\n",
    "        ep2 = ep1-(ep1-ep0)/(fEven(numerov,ep1)-fEven(numerov,ep0))*fEven(numerov,ep1)\n",
    "        ep1 = ep2\n",
    "        ep0 = ep1\n",
    "    return ep1\n",
    "\n",
    "def ShootingOdd(numerov,eps1,eps2,deps):\n",
    "    ep0 = eps1\n",
    "    ep1 = eps2\n",
    "    while abs(ep1-ep0)>deps:\n",
    "        ep2 = ep1-(ep1-ep0)/(fOdd(numerov,ep1)-fOdd(numerov,ep0))*fOdd(numerov,ep1)\n",
    "        ep1 = ep2\n",
    "        ep0 = ep1\n",
    "    return ep1\n",
    "\n",
    "def Shooting(numerov,eps,deps,delta,n):\n",
    "    valid_ep = []\n",
    "    eps1 = eps\n",
    "    eps2 = eps1 + delta\n",
    "    while len(valid_ep)<20:\n",
    "        epOdd = ShootingOdd(numerov,eps1,eps2,deps)\n",
    "        epEven = ShootingEven(numerov,eps1,eps2,deps)\n",
    "        numerov.ep = epOdd\n",
    "        psiOdd = numerov.WaveFunction()\n",
    "        numerov.ep = epEven\n",
    "        psiEven = numerov.WaveFunction()\n",
    "\n",
    "        if type(psiOdd) != bool:\n",
    "            valid_ep.append(epOdd)\n",
    "            #print(\"odd\")\n",
    "            #print(epOdd)\n",
    "\n",
    "        if type(psiEven) != bool :\n",
    "            valid_ep.append(epEven)\n",
    "            #print(\"even\")\n",
    "            #print(epEven)\n",
    "        eps1 = eps2\n",
    "        eps2 = eps1 + delta\n",
    "        \n",
    "    return valid_ep"
   ]
  },
  {
   "cell_type": "code",
   "execution_count": null,
   "metadata": {},
   "outputs": [],
   "source": [
    "def normal(psi):\n",
    "    psi2 = psi*psi\n",
    "    return integrate.simps(psi2)"
   ]
  },
  {
   "cell_type": "code",
   "execution_count": null,
   "metadata": {},
   "outputs": [],
   "source": [
    "psi = np.concatenate((psi0[0],psi0[1]))\n",
    "n = normal(psi)\n",
    "psin = psi/np.sqrt(n)\n",
    "normal(psin)"
   ]
  },
  {
   "cell_type": "code",
   "execution_count": null,
   "metadata": {},
   "outputs": [],
   "source": [
    "integrate.simps(psi*psin)"
   ]
  },
  {
   "cell_type": "code",
   "execution_count": null,
   "metadata": {},
   "outputs": [],
   "source": [
    "psi[0]=0\n",
    "psi[1] = 1E-5\n",
    "#psir[N-1] = 0\n",
    "#psir[N-2] = 1E-5\n",
    "i = 3\n",
    "psi[i] = (2*(1-(5.0/12)*l2*k2[i-1])*Psi[i-1]-(1+(1.0/12)*l2*k2[i-2])*Psi[i-2])/(1+(1.0/12)*l2*k2[i])"
   ]
  },
  {
   "cell_type": "code",
   "execution_count": null,
   "metadata": {},
   "outputs": [],
   "source": [
    "x[3]"
   ]
  },
  {
   "cell_type": "code",
   "execution_count": null,
   "metadata": {},
   "outputs": [],
   "source": [
    "range(2,N)[0]"
   ]
  },
  {
   "cell_type": "code",
   "execution_count": null,
   "metadata": {},
   "outputs": [],
   "source": [
    "449"
   ]
  },
  {
   "cell_type": "code",
   "execution_count": null,
   "metadata": {},
   "outputs": [],
   "source": [
    "len(psi)"
   ]
  },
  {
   "cell_type": "code",
   "execution_count": null,
   "metadata": {},
   "outputs": [],
   "source": [
    "Psi"
   ]
  },
  {
   "cell_type": "code",
   "execution_count": null,
   "metadata": {},
   "outputs": [],
   "source": [
    "len(x)"
   ]
  },
  {
   "cell_type": "code",
   "execution_count": 2,
   "metadata": {
    "scrolled": true
   },
   "outputs": [],
   "source": [
    "ep = -1.4845810712070169\n",
    "numerov = Numerov.Numerov(-10,10,1000,ep)\n",
    "\n",
    "psi = numerov.WaveFunction()\n",
    "\n",
    "if (type(psi) == bool):\n",
    "    pass\n",
    "else:\n",
    "    fig = plt.figure();\n",
    "    ax = fig.add_subplot(111);\n",
    "\n",
    "    ax.plot(numerov.xl,psi[0])\n",
    "    ax.plot(numerov.xr,psi[1])\n",
    "    ax.plot(numerov.x,V(numerov.x))\n",
    "    #ax.plot(numerov.x,V(numerov.x))\n",
    "\n",
    "    #ax.plot(numerov.xr,numerov.WaveFunction()[1])\n",
    "    #ax.set_xlim(3.95,4.05)\n",
    "    plt.show()\n",
    "\n"
   ]
  },
  {
   "cell_type": "code",
   "execution_count": null,
   "metadata": {},
   "outputs": [],
   "source": [
    "fig = plt.figure();\n",
    "ax = fig.add_subplot(111);\n",
    "ep = 2.473915357058646\n",
    "numerov = Numerov.Numerov(-10,10,1000,ep)\n",
    "psi = numerov.OddWaveFunction()\n",
    "\n",
    "ax.plot(numerov.xl,psi[0])\n",
    "ax.plot(numerov.xr,psi[1])\n",
    "plt.show()"
   ]
  },
  {
   "cell_type": "code",
   "execution_count": null,
   "metadata": {},
   "outputs": [],
   "source": [
    "numerov = Numerov.Numerov(-10,10,10000)\n",
    "#psi = numerov.WaveFunction()\n",
    "#psi"
   ]
  },
  {
   "cell_type": "code",
   "execution_count": null,
   "metadata": {},
   "outputs": [],
   "source": [
    "ep = 0.5069780227832896\n",
    "deps = 1E-5\n",
    "delta = 0.1\n",
    "eps1 = -5\n",
    "eps2 = eps1 +delta\n",
    "\n",
    "valid_ep = []"
   ]
  },
  {
   "cell_type": "code",
   "execution_count": null,
   "metadata": {},
   "outputs": [],
   "source": [
    "while len(valid_ep)<20:\n",
    "    epOdd = ShootingOdd(numerov,eps1,eps2,deps)\n",
    "    epEven = ShootingEven(numerov,eps1,eps2,deps)\n",
    "    numerov.ep = epOdd\n",
    "    psiOdd = numerov.WaveFunction()\n",
    "    numerov.ep = epEven\n",
    "    psiEven = numerov.WaveFunction()\n",
    "\n",
    "    if type(psiOdd) != bool:\n",
    "        valid_ep.append(epOdd)\n",
    "        print(\"odd\")\n",
    "        print(epOdd)\n",
    "\n",
    "    if type(psiEven) != bool :\n",
    "        valid_ep.append(epEven)\n",
    "        print(\"even\")\n",
    "        print(epEven)\n",
    "    eps1 = eps2\n",
    "    eps2 = eps1 + delta"
   ]
  },
  {
   "cell_type": "code",
   "execution_count": 8,
   "metadata": {
    "scrolled": true
   },
   "outputs": [
    {
     "data": {
      "text/plain": [
       "[0.49999999999999994,\n",
       " 0.49999999999999994,\n",
       " 1.5000000000000007,\n",
       " 1.5000000000000007,\n",
       " 2.499999999999999,\n",
       " 2.499999999999999,\n",
       " 3.4999999999999956,\n",
       " 3.4999999999999956,\n",
       " 4.499999999999992,\n",
       " 4.499999999999992,\n",
       " 5.4999999999999885,\n",
       " 5.4999999999999885,\n",
       " 6.499999999999985,\n",
       " 6.499999999999985,\n",
       " 7.499999999999981,\n",
       " 7.499999999999981,\n",
       " 16.5500000000001,\n",
       " 16.5500000000001,\n",
       " 18.55000000000013,\n",
       " 18.55000000000013]"
      ]
     },
     "execution_count": 8,
     "metadata": {},
     "output_type": "execute_result"
    }
   ],
   "source": [
    "numerov.Shooting(0.0,100,0.05,20)"
   ]
  },
  {
   "cell_type": "code",
   "execution_count": null,
   "metadata": {},
   "outputs": [],
   "source": []
  },
  {
   "cell_type": "code",
   "execution_count": null,
   "metadata": {},
   "outputs": [],
   "source": [
    "ep0 = 1.30\n",
    "ep1 = 1.7\n",
    "ep2 = ep1-(ep1-ep0)/(f(numerov,ep1)-f(numerov,ep0))*f(numerov,ep1)\n",
    "(f(numerov,ep1)-f(numerov,ep0))"
   ]
  },
  {
   "cell_type": "code",
   "execution_count": null,
   "metadata": {},
   "outputs": [],
   "source": [
    "numerov.ep = 0.4\n",
    "psi = numerov.EvenWaveFunction()\n",
    "psin = psi/np.sqrt(numerov.normalize(psi))\n",
    "psin[0][-1]-psin[1][0]"
   ]
  },
  {
   "cell_type": "code",
   "execution_count": null,
   "metadata": {},
   "outputs": [],
   "source": [
    "fig = plt.figure();\n",
    "ax = fig.add_subplot(111);\n",
    "ax.plot(numerov.xl,psin[0])\n",
    "ax.plot(numerov.xr,psin[1])\n",
    "plt.show()"
   ]
  },
  {
   "cell_type": "code",
   "execution_count": null,
   "metadata": {},
   "outputs": [],
   "source": []
  }
 ],
 "metadata": {
  "kernelspec": {
   "display_name": "TFG",
   "language": "python",
   "name": "tfg"
  },
  "language_info": {
   "codemirror_mode": {
    "name": "ipython",
    "version": 3
   },
   "file_extension": ".py",
   "mimetype": "text/x-python",
   "name": "python",
   "nbconvert_exporter": "python",
   "pygments_lexer": "ipython3",
   "version": "3.7.3"
  }
 },
 "nbformat": 4,
 "nbformat_minor": 2
}
