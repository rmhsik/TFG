{
 "cells": [
  {
   "cell_type": "code",
   "execution_count": 10,
   "metadata": {},
   "outputs": [],
   "source": [
    "class lol(object):\n",
    "    def __init__(self,a):\n",
    "        self.a = a\n",
    "    def reta(self):\n",
    "        return self.a\n",
    "\n",
    "class lmao():\n",
    "    def __init__(self,lol):\n",
    "        self.b = lol.a\n",
    "    def retb(self):\n",
    "        return self.b"
   ]
  },
  {
   "cell_type": "code",
   "execution_count": 16,
   "metadata": {},
   "outputs": [
    {
     "data": {
      "text/plain": [
       "20"
      ]
     },
     "execution_count": 16,
     "metadata": {},
     "output_type": "execute_result"
    }
   ],
   "source": [
    "c = lol(20)\n",
    "\n",
    "#c.a = 23\n",
    "c.reta()"
   ]
  },
  {
   "cell_type": "code",
   "execution_count": 17,
   "metadata": {},
   "outputs": [
    {
     "data": {
      "text/plain": [
       "20"
      ]
     },
     "execution_count": 17,
     "metadata": {},
     "output_type": "execute_result"
    }
   ],
   "source": [
    "d = lmao(c)\n",
    "d.retb()"
   ]
  },
  {
   "cell_type": "code",
   "execution_count": 2,
   "metadata": {},
   "outputs": [],
   "source": [
    "import numpy as np\n"
   ]
  },
  {
   "cell_type": "code",
   "execution_count": 4,
   "metadata": {},
   "outputs": [
    {
     "data": {
      "text/plain": [
       "array([[0.00000000e+000, 0.00000000e+000, 0.00000000e+000, ...,\n",
       "        0.00000000e+000, 0.00000000e+000, 0.00000000e+000],\n",
       "       [9.60444897e-292, 4.67346072e-291, 1.75268447e-290, ...,\n",
       "        8.94785185e-290, 2.38590772e-290, 4.90328909e-291],\n",
       "       [8.10864208e-287, 3.92836556e-286, 1.46363621e-285, ...,\n",
       "        8.75501142e-285, 2.34881375e-285, 4.84724344e-286],\n",
       "       ...,\n",
       "       [1.00421337e-009, 3.99663626e-009, 8.89959548e-009, ...,\n",
       "        9.23389880e-009, 4.13300601e-009, 1.03627232e-009],\n",
       "       [9.93385316e-010, 3.95415863e-009, 8.80706051e-009, ...,\n",
       "        8.92361939e-009, 3.99060532e-009, 1.00002302e-009],\n",
       "       [9.81007051e-010, 3.90577628e-009, 8.70235668e-009, ...,\n",
       "        8.61392101e-009, 3.84859696e-009, 9.63897174e-010]])"
      ]
     },
     "execution_count": 4,
     "metadata": {},
     "output_type": "execute_result"
    }
   ],
   "source": [
    "np.load(\"../data/PMatrix_8cycle.npy\")"
   ]
  },
  {
   "cell_type": "code",
   "execution_count": null,
   "metadata": {},
   "outputs": [],
   "source": []
  }
 ],
 "metadata": {
  "kernelspec": {
   "display_name": "TFG",
   "language": "python",
   "name": "tfg"
  },
  "language_info": {
   "codemirror_mode": {
    "name": "ipython",
    "version": 3
   },
   "file_extension": ".py",
   "mimetype": "text/x-python",
   "name": "python",
   "nbconvert_exporter": "python",
   "pygments_lexer": "ipython3",
   "version": "3.7.3"
  }
 },
 "nbformat": 4,
 "nbformat_minor": 2
}
