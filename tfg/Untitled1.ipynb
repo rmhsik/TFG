{
 "cells": [
  {
   "cell_type": "code",
   "execution_count": 34,
   "metadata": {},
   "outputs": [
    {
     "data": {
      "text/plain": [
       "PyObject ['/home/rmhsik/Software/TFG/tfg/', '/home/rmhsik/Software/TFG/tfg/', '/home/rmhsik/Software/TFG/tfg/', '/home/rmhsik/Software/TFG/tfg/', '/home/rmhsik/Software/TFG/tfg/', '/home/rmhsik/Software/TFG/tfg/', '/usr/lib/python37.zip', '/usr/lib/python3.7', '/usr/lib/python3.7/lib-dynload', '/home/rmhsik/.local/lib/python3.7/site-packages', '/usr/local/lib/python3.7/dist-packages', '/usr/local/lib/python3.7/dist-packages/gestures-0.2.2-py3.7.egg', '/usr/lib/python3/dist-packages']"
      ]
     },
     "execution_count": 34,
     "metadata": {},
     "output_type": "execute_result"
    }
   ],
   "source": [
    "using PyCall\n",
    "pushfirst!(PyVector(pyimport(\"sys\").\"path\"), @__DIR__)\n",
    "\n"
   ]
  },
  {
   "cell_type": "code",
   "execution_count": 35,
   "metadata": {},
   "outputs": [
    {
     "ename": "MethodError",
     "evalue": "MethodError: no method matching getproperty(::String, ::String)\nClosest candidates are:\n  getproperty(!Matched::PyObject, ::AbstractString) at /home/rmhsik/.julia/packages/PyCall/ttONZ/src/PyCall.jl:302\n  getproperty(::Any, !Matched::Symbol) at sysimg.jl:18",
     "output_type": "error",
     "traceback": [
      "MethodError: no method matching getproperty(::String, ::String)\nClosest candidates are:\n  getproperty(!Matched::PyObject, ::AbstractString) at /home/rmhsik/.julia/packages/PyCall/ttONZ/src/PyCall.jl:302\n  getproperty(::Any, !Matched::Symbol) at sysimg.jl:18",
      "",
      "Stacktrace:",
      " [1] top-level scope at In[35]:1"
     ]
    }
   ],
   "source": [
    "Hamiltonian = pyimport(\"Classes\".\"Hamiltonian\")"
   ]
  },
  {
   "cell_type": "code",
   "execution_count": 24,
   "metadata": {},
   "outputs": [
    {
     "ename": "KeyError",
     "evalue": "KeyError: key \"Hamiltonian\" not found",
     "output_type": "error",
     "traceback": [
      "KeyError: key \"Hamiltonian\" not found",
      "",
      "Stacktrace:",
      " [1] getproperty(::PyObject, ::String) at /home/rmhsik/.julia/packages/PyCall/ttONZ/src/PyCall.jl:308",
      " [2] getproperty(::PyObject, ::Symbol) at /home/rmhsik/.julia/packages/PyCall/ttONZ/src/PyCall.jl:313",
      " [3] top-level scope at In[24]:1"
     ]
    }
   ],
   "source": [
    "Classes.Hamiltonian"
   ]
  },
  {
   "cell_type": "code",
   "execution_count": null,
   "metadata": {},
   "outputs": [],
   "source": []
  }
 ],
 "metadata": {
  "kernelspec": {
   "display_name": "Julia 1.0.5",
   "language": "julia",
   "name": "julia-1.0"
  },
  "language_info": {
   "file_extension": ".jl",
   "mimetype": "application/julia",
   "name": "julia",
   "version": "1.0.5"
  }
 },
 "nbformat": 4,
 "nbformat_minor": 2
}
