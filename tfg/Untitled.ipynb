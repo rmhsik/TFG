{
 "cells": [
  {
   "cell_type": "code",
   "execution_count": 1,
   "metadata": {},
   "outputs": [],
   "source": [
    "import numpy as np\n",
    "import matplotlib.pyplot as plt\n",
    "from scipy import integrate\n",
    "from scipy import linalg\n",
    "import PyQt5\n",
    "from Classes import CrankNicolson,Hamiltonian, Math, EMField\n",
    "\n",
    "%matplotlib notebook\n"
   ]
  },
  {
   "cell_type": "code",
   "execution_count": 2,
   "metadata": {},
   "outputs": [],
   "source": [
    "N = 1000\n",
    "x = np.zeros((N))\n",
    "x = np.linspace(-50,50,N)\n",
    "h = abs(x[0]-x[-1])/N\n",
    "a = 1.0\n",
    "p0 = 0.0\n",
    "x0 = 0.0\n",
    "psi = np.exp(-(x-x0)**2/(2*a**2))\n",
    "C = integrate.simps(np.conjugate(psi)*psi,x)\n",
    "psin = psi/np.sqrt(C)\n",
    "t = np.linspace(0,2.5*15,1000)\n",
    "P = np.conjugate(psin)*psin"
   ]
  },
  {
   "cell_type": "code",
   "execution_count": 3,
   "metadata": {},
   "outputs": [
    {
     "name": "stdout",
     "output_type": "stream",
     "text": [
      "CPU times: user 16.6 ms, sys: 4.19 ms, total: 20.8 ms\n",
      "Wall time: 20.1 ms\n"
     ]
    },
    {
     "data": {
      "text/plain": [
       "array([[100. +0.j        , -50.-36.48569761j,   0. +0.j        , ...,\n",
       "          0. +0.j        ,   0. +0.j        ,   0. +0.j        ],\n",
       "       [-50.+36.48569761j, 100. +0.j        , -50.-36.48569761j, ...,\n",
       "          0. +0.j        ,   0. +0.j        ,   0. +0.j        ],\n",
       "       [  0. +0.j        , -50.+36.48569761j, 100. +0.j        , ...,\n",
       "          0. +0.j        ,   0. +0.j        ,   0. +0.j        ],\n",
       "       ...,\n",
       "       [  0. +0.j        ,   0. +0.j        ,   0. +0.j        , ...,\n",
       "        100. +0.j        , -50.-36.48569761j,   0. +0.j        ],\n",
       "       [  0. +0.j        ,   0. +0.j        ,   0. +0.j        , ...,\n",
       "        -50.+36.48569761j, 100. +0.j        , -50.-36.48569761j],\n",
       "       [  0. +0.j        ,   0. +0.j        ,   0. +0.j        , ...,\n",
       "          0. +0.j        , -50.+36.48569761j, 100. +0.j        ]])"
      ]
     },
     "execution_count": 3,
     "metadata": {},
     "output_type": "execute_result"
    }
   ],
   "source": [
    "%%time\n",
    "H = Hamiltonian.H(x,N,h)\n",
    "H.MatrixSetup()\n",
    "#Math.EigenEnergy(psin,H.H,x)\n",
    "H.H"
   ]
  },
  {
   "cell_type": "code",
   "execution_count": 4,
   "metadata": {
    "scrolled": false
   },
   "outputs": [
    {
     "data": {
      "text/plain": [
       "[<matplotlib.lines.Line2D at 0x7fa9365e95c0>]"
      ]
     },
     "execution_count": 4,
     "metadata": {},
     "output_type": "execute_result"
    },
    {
     "data": {
      "image/png": "[encoded data removed]",
      "text/plain": [
       "<Figure size 432x288 with 1 Axes>"
      ]
     },
     "metadata": {
      "needs_background": "light"
     },
     "output_type": "display_data"
    }
   ],
   "source": [
    "fig = plt.figure();\n",
    "ax = fig.add_subplot(111);\n",
    "#ax.set_xlim(-10,10)\n",
    "ax.plot(x,P)\n",
    "#plt.savefig('images/foo.png')"
   ]
  },
  {
   "cell_type": "code",
   "execution_count": 5,
   "metadata": {},
   "outputs": [
    {
     "name": "stderr",
     "output_type": "stream",
     "text": [
      "/home/rmhsik/Software/TFG/venv/lib/python3.7/site-packages/scipy/sparse/linalg/dsolve/linsolve.py:133: SparseEfficiencyWarning: spsolve requires A be CSC or CSR matrix format\n",
      "  SparseEfficiencyWarning)\n",
      "/home/rmhsik/Software/TFG/venv/lib/python3.7/site-packages/numpy/core/numeric.py:538: ComplexWarning: Casting complex values to real discards the imaginary part\n",
      "  return array(a, dtype, copy=False, order=order)\n"
     ]
    },
    {
     "name": "stdout",
     "output_type": "stream",
     "text": [
      "CPU times: user 1min 21s, sys: 42.4 s, total: 2min 3s\n",
      "Wall time: 32.6 s\n"
     ]
    },
    {
     "data": {
      "text/plain": [
       "[<matplotlib.lines.Line2D at 0x7fa935536eb8>]"
      ]
     },
     "execution_count": 5,
     "metadata": {},
     "output_type": "execute_result"
    },
    {
     "data": {
      "image/png": "[encoded data removed]",
      "text/plain": [
       "<Figure size 432x288 with 1 Axes>"
      ]
     },
     "metadata": {
      "needs_background": "light"
     },
     "output_type": "display_data"
    }
   ],
   "source": [
    "%%time\n",
    "fig = plt.figure();\n",
    "ax = fig.add_subplot(111);\n",
    "\n",
    "H = Hamiltonian.H(x,N,h)\n",
    "dt = 0.01\n",
    "\n",
    "H.MatrixSetup()\n",
    "Prop = CrankNicolson.Propagator(H,N,dt)\n",
    "\n",
    "psi0 = psin\n",
    "count = 0\n",
    "\n",
    "for i in range(len(t)):\n",
    "    psi1 = Prop.Propagate(psi0)\n",
    "    count +=1\n",
    "    if (i%100== 0): \n",
    "        ax.plot(x,np.conjugate(psi1)*psi1,'b')\n",
    "        count += 1\n",
    "    psi0 = psi1\n",
    "ax.plot(x,np.conjugate(psi1)*psi1,'r')"
   ]
  },
  {
   "cell_type": "code",
   "execution_count": null,
   "metadata": {
    "scrolled": false
   },
   "outputs": [],
   "source": [
    "%%time\n",
    "fig = plt.figure();\n",
    "ax = fig.add_subplot(111);\n",
    "ax.set_xlim(-10,10)\n",
    "ax.set_ylim(0,1)\n",
    "\n",
    "dt=-1j*0.01\n",
    "Prop = CrankNicolson.Propagator(H,N,dt)\n",
    "psi0 = psin\n",
    "ep0 = Math.EigenEnergy(psi0,H.H,x)\n",
    "eps = 1\n",
    "delta = 1E-9\n",
    "count = 0\n",
    "\n",
    "while (eps > delta):\n",
    "#for i in range(600):\n",
    "    psi1 = Prop.Propagate(psi0)\n",
    "    norm = Math.Norm(psi1,x)\n",
    "    psi1 = psi1/np.sqrt(norm)\n",
    "    #if (i%100 == 0): \n",
    "    #    ax.plot(x,np.conjugate(psi1)*psi1)\n",
    "    ep1 = Math.EigenEnergy(psi1,H.H,x)\n",
    "    eps = abs(np.real(ep1)-np.real(ep0))\n",
    "    ep0 = ep1\n",
    "    psi0 = psi1\n",
    "    count +=1\n",
    "\n",
    "ax.plot(x,np.conjugate(psin)*psin,'b')\n",
    "ax.plot(x,np.conjugate(psi1)*psi1,'g')"
   ]
  },
  {
   "cell_type": "code",
   "execution_count": null,
   "metadata": {},
   "outputs": [],
   "source": [
    "ep1"
   ]
  },
  {
   "cell_type": "code",
   "execution_count": null,
   "metadata": {},
   "outputs": [],
   "source": [
    "def f(t):\n",
    "        #Envelope function from https://doi.org/10.1016/j.physletb.2013.09.014\n",
    "    m = 3\n",
    "    tau = 15\n",
    "    t0 = 5\n",
    "    return np.exp(-np.power((t-t0)/tau,2*m))\n",
    "\n",
    "def E(t):\n",
    "    w = 1\n",
    "    return 0.02*f(t)*np.sin(w*t)\n",
    "\n",
    "def A(t):\n",
    "    return -integrate.romberg(E,0,t)\n"
   ]
  },
  {
   "cell_type": "code",
   "execution_count": null,
   "metadata": {},
   "outputs": [],
   "source": [
    "t = np.linspace(0,2.5*15,1000)\n",
    "fig = plt.figure();\n",
    "ax = fig.add_subplot(111);\n",
    "l = np.zeros(1000)\n",
    "e = np.zeros(1000)\n",
    "a = np.zeros(1000)\n",
    "for i in range(len((t))):\n",
    "    a[i] = A(t[i])\n",
    "    e[i] = E(t[i])\n",
    "    l[i] = f(t[i])\n",
    "ax.plot(t,e/np.amax(e))\n",
    "ax.plot(t,l)\n",
    "ax.plot(t,a/np.amax(a))"
   ]
  },
  {
   "cell_type": "code",
   "execution_count": null,
   "metadata": {
    "scrolled": false
   },
   "outputs": [],
   "source": [
    "t = np.linspace(-2.5*15,2.5*15,1000)\n",
    "fig = plt.figure();\n",
    "ax = fig.add_subplot(111);\n",
    "f = np.zeros(1000)\n",
    "e = np.zeros(1000)\n",
    "a = np.zeros(1000)\n",
    "EM = EMField.EMField(0.2,0.63,20,10,-100,2)\n",
    "\n",
    "for i in range(len((t))):\n",
    "    a[i] = EM.A(t[i])\n",
    "    e[i] = EM.E(t[i])\n",
    "    f[i] = EM.f(t[i])\n",
    "    \n",
    "ax.plot(t,e)\n",
    "ax.plot(t,f)\n",
    "ax.plot(t,a)"
   ]
  },
  {
   "cell_type": "code",
   "execution_count": null,
   "metadata": {},
   "outputs": [],
   "source": [
    "fig = plt.figure();\n",
    "ax = fig.add_subplot(111);\n",
    "ax.plot(t,a)"
   ]
  },
  {
   "cell_type": "code",
   "execution_count": null,
   "metadata": {},
   "outputs": [],
   "source": []
  }
 ],
 "metadata": {
  "kernelspec": {
   "display_name": "TFG",
   "language": "python",
   "name": "tfg"
  },
  "language_info": {
   "codemirror_mode": {
    "name": "ipython",
    "version": 3
   },
   "file_extension": ".py",
   "mimetype": "text/x-python",
   "name": "python",
   "nbconvert_exporter": "python",
   "pygments_lexer": "ipython3",
   "version": "3.7.3"
  }
 },
 "nbformat": 4,
 "nbformat_minor": 2
}
