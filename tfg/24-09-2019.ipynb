{
 "cells": [
  {
   "cell_type": "code",
   "execution_count": 1,
   "metadata": {},
   "outputs": [],
   "source": [
    "import numpy as np\n",
    "import matplotlib.pyplot as plt\n",
    "from scipy import integrate\n",
    "from scipy import linalg\n",
    "from scipy import interpolate\n",
    "\n",
    "import PyQt5\n",
    "from Classes import CrankNicolson,Hamiltonian, Math, EMField\n",
    "\n",
    "%matplotlib notebook"
   ]
  },
  {
   "cell_type": "markdown",
   "metadata": {},
   "source": [
    "<h3> Definición de los parámetros"
   ]
  },
  {
   "cell_type": "code",
   "execution_count": 2,
   "metadata": {},
   "outputs": [],
   "source": [
    "Nx = 1000 #Número de puntos en el mallado espacial\n",
    "Nt = 1000 #Número de puntos en el mallado temporal\n",
    "x,h = np.linspace(-50,50,Nx,retstep=True) #Creamos un mallado espacial equiespaciado\n",
    "a = 1.0 #Paramentro que define el ancho de la función gaussiana\n",
    "#p0 = 0.0 \n",
    "x0 = 0.0  #Centro de la función gaussiana a tiempo 0\n",
    "psi = np.exp(-(x-x0)**2/(2*a**2)) #Funcíón Gaussiana\n",
    "C = integrate.simps(np.conjugate(psi)*psi,x) #Constante de normalización\n",
    "psin = psi/np.sqrt(C) #Normalizamos la función de onda\n",
    "t,dt = np.linspace(0,2.5*5,1000,retstep=True) #Mallado temporal equiespaciado\n",
    "P = np.conjugate(psin)*psin #Densidad de probabilidad"
   ]
  },
  {
   "cell_type": "markdown",
   "metadata": {},
   "source": [
    "<h3> Representación de la de la densidad de probabiliad de la\n",
    "onda de partida "
   ]
  },
  {
   "cell_type": "code",
   "execution_count": null,
   "metadata": {},
   "outputs": [],
   "source": [
    "P = np.conjugate(psin)*psin #Densidad de probabilidad\n",
    "\n",
    "fig = plt.figure();\n",
    "ax = fig.add_subplot(111);\n",
    "ax.set_xlim(-10,10)\n",
    "ax.plot(x,P);"
   ]
  },
  {
   "cell_type": "markdown",
   "metadata": {},
   "source": [
    "<h3> Evolución de la función de onda en ausencia de potencial y campo eléctrico"
   ]
  },
  {
   "cell_type": "code",
   "execution_count": null,
   "metadata": {
    "scrolled": false
   },
   "outputs": [],
   "source": [
    "%%time \n",
    "\n",
    "fig = plt.figure();\n",
    "ax = fig.add_subplot(111);\n",
    "ax.set_ylim(0,1.0)\n",
    "\n",
    "#Creamos el Hamiltoniano. En este caso desactivamos la opción del\n",
    "#potencial Coulombiano y del potencial vector.\n",
    "H = Hamiltonian.H(x,Nx,h,t,VBool=False, ABool=False) \n",
    "\n",
    "#Creamos el propagador con los parámetros deseados\n",
    "Prop = CrankNicolson.Propagator(H,Nx,dt)\n",
    "\n",
    "#En este caso partimos de la función de onda sin normalizar \n",
    "#para que sea más visual\n",
    "psi0 = psi\n",
    "\n",
    "for i in range(len(t)): #Se resolverá la propagación para cada instante de tiempo\n",
    "    \n",
    "    #Como se trata de un Hamiltoniano constante en el tiempo\n",
    "    #no hará falta ejecutar Update() en cada iteración, tanto\n",
    "    #en el Hamiltoniano como en el propagador\n",
    "    \n",
    "    psi1 = Prop.Propagate(psi0) #Propaga de psi0 a psi1 un dt\n",
    "    \n",
    "    #CÓDIGO PARA GUARDAR CAPTURAS DE LAS GRÁFICAS\n",
    "    #ax.title.set_text(\"Time: \" + str(t[0][i]))\n",
    "    #ax.plot(x,np.conjugate(psi1)*psi1,'b')\n",
    "    #path = 'images/FPA/'+str(i)+'.png'\n",
    "    #plt.savefig(path)\n",
    "    #ax.clear()\n",
    "    \n",
    "    if (i%100 == 0): #Representaremos unicamente las iteraciones multiplos de 100\n",
    "        ax.plot(x,np.conjugate(psi1)*psi1,'b');\n",
    "    psi0 = psi1 #Movemos la función para la próxima iteración\n",
    "\n",
    "ax.plot(x,np.conjugate(psi1)*psi1,'r'); #Representamos el estado final"
   ]
  },
  {
   "cell_type": "markdown",
   "metadata": {},
   "source": [
    "<h3>Cálculo del estado fundamental del Hamiltoniano Coulombiano empleando lapropagación en tiempo imaginario"
   ]
  },
  {
   "cell_type": "code",
   "execution_count": null,
   "metadata": {},
   "outputs": [],
   "source": [
    "%%time\n",
    "\n",
    "fig = plt.figure();\n",
    "ax = fig.add_subplot(111);\n",
    "ax.set_xlim(-10,10)\n",
    "ax.set_ylim(0,1.0)\n",
    "\n",
    "dt = -1j*0.01 #En este caso definimos dt de manera arbitraria.\n",
    "              #Afectará al número de iteraciones para alcanzar la\n",
    "              #resolución deseada\n",
    "        \n",
    "#Volvemos a crear el Hamiltoniano, esta vez con el potencial\n",
    "#Coulombiano activado. Al cambiar el Hamiltoniano tambien\n",
    "#reiniciamos el propagador\n",
    "H = Hamiltonian.H(x,Nx,h,t,VBool=True, ABool=False) \n",
    "Prop = CrankNicolson.Propagator(H,Nx,dt)\n",
    "\n",
    "#La función de onda de partida en este caso será la función normalizada\n",
    "psi0 = psin\n",
    "ep0 = Math.EigenEnergy(psi0,H,x)\n",
    "eps = 1 #Iniciamos el error inicial para entrar en el loop\n",
    "delta = 1E-5 #Error en la energía desesa\n",
    "count = 0 #contado de iteraciones\n",
    "\n",
    "while (eps>delta):\n",
    "    psi1 = Prop.Propagate(psi0) #Propagamos la función de onda un j*dt\n",
    "    norm = Math.Norm(psi1,x) #Calculamos la constate de normalización\n",
    "    psi1 = psi1/np.sqrt(norm) #Normalizamos la función\n",
    "    \n",
    "    ep1 = Math.EigenEnergy(psi1,H,x) #Calculamos la autoenergía asociada\n",
    "    eps = abs(ep1-ep0) #Calculamos el error absoluto\n",
    "    \n",
    "    #Movemos la función y su energía para la próxima iteración\n",
    "    ep0 = ep1\n",
    "    psi0 = psi1\n",
    "    count +=1 \n",
    "    \n",
    "#Graficamos la función inicial y la final (estado fundamental)\n",
    "ax.plot(x,np.conjugate(psin)*psin,'b')\n",
    "ax.plot(x,np.conjugate(psi1)*psi1,'g')\n",
    "psiG = psi1 #Guardamos la función de onda del estado fundamental"
   ]
  },
  {
   "cell_type": "code",
   "execution_count": null,
   "metadata": {},
   "outputs": [],
   "source": [
    "print(\"Número de iteraciones: \" + str(count))\n",
    "print(\"Energía del estado fundamental\" + str(ep1))"
   ]
  },
  {
   "cell_type": "markdown",
   "metadata": {},
   "source": [
    "<h3>Propagación de la función de onda en presencia de un campo eléctrico"
   ]
  },
  {
   "cell_type": "code",
   "execution_count": null,
   "metadata": {},
   "outputs": [],
   "source": [
    "%%time\n",
    "\n",
    "fig = plt.figure();\n",
    "ax = fig.add_subplot(111);\n",
    "#ax.set_xlim(-50,50)\n",
    "ax.set_ylim(0,1.0)\n",
    "\n",
    "#Redefinimos el mallado temporal para este caso\n",
    "t,dt = np.linspace(0,2.5*15,1000,retstep=True) \n",
    "#Redifinimos el mallado espacial para aumentarlo\n",
    "x,h = np.linspace(-100,50,Nx,retstep=True) \n",
    "#Recalculamos la función Gaussiana\n",
    "psi = np.exp(-(x-x0)**2/(2*a**2)) #Funcíón Gaussiana\n",
    "\n",
    "#Volvemos a crear tanto el Hamiltoniano como el propagador.\n",
    "#Los datos del campo EM estan definidos internamente en la clase\n",
    "#del Hamiltoniano\n",
    "H = Hamiltonian.H(x,Nx,h,t,VBool=False, ABool = True)\n",
    "Prop = CrankNicolson.Propagator(H,Nx,dt)\n",
    "\n",
    "psi0 = psi #De nuevo partimos de la función de onda sin nomarlizar\n",
    "\n",
    "for i in range(len(t)):\n",
    "    H.Update(i) #Actualizamos el Hamiltoniano a la itreación i-ésima\n",
    "    Prop.Update(H) #Actualizamos el porpagador con el nuevo Hamiltoniano\n",
    "    \n",
    "    psi1 = Prop.Propagate(psi0)  \n",
    "    \n",
    "    if (i%100== 0): #Rpresentamos solamente los multiplos de 100\n",
    "        ax.plot(x,np.conjugate(psi1)*psi1,'b')\n",
    "    \n",
    "    psi0 = psi1 #Preparamos para la siguiente iteración\n",
    "\n",
    "ax.plot(x,np.conjugate(psi1)*psi1,'r'); #Representamos el estado final"
   ]
  },
  {
   "cell_type": "code",
   "execution_count": null,
   "metadata": {},
   "outputs": [],
   "source": [
    "fig = plt.figure();\n",
    "ax = fig.add_subplot(111);\n",
    "#ax.set_xlim(-50,50)\n",
    "\n",
    "ax.plot(x,H.A)"
   ]
  },
  {
   "cell_type": "markdown",
   "metadata": {},
   "source": [
    "<h3>Propagación con el potencial Coulombiano y con campo \n",
    "    eléctrico"
   ]
  },
  {
   "cell_type": "code",
   "execution_count": 3,
   "metadata": {
    "scrolled": true
   },
   "outputs": [
    {
     "name": "stdout",
     "output_type": "stream",
     "text": [
      "Calculando el potencial vector...\n",
      "potencial vector calculado!\n"
     ]
    },
    {
     "name": "stderr",
     "output_type": "stream",
     "text": [
      "/home/rmhsik/Software/TFG/venv/lib/python3.7/site-packages/scipy/sparse/linalg/dsolve/linsolve.py:133: SparseEfficiencyWarning: spsolve requires A be CSC or CSR matrix format\n",
      "  SparseEfficiencyWarning)\n",
      "/home/rmhsik/Software/TFG/venv/lib/python3.7/site-packages/ipykernel_launcher.py:27: ComplexWarning: Casting complex values to real discards the imaginary part\n"
     ]
    },
    {
     "name": "stdout",
     "output_type": "stream",
     "text": [
      "CPU times: user 2min 13s, sys: 1min 4s, total: 3min 17s\n",
      "Wall time: 1min 14s\n"
     ]
    }
   ],
   "source": [
    "%%time\n",
    "\n",
    "#fig = plt.figure();\n",
    "#ax = fig.add_subplot(111);\n",
    "#ax.set_xlim(-50,50)\n",
    "#ax.set_ylim(0,1.0)\n",
    "\n",
    "#Redefinimos el mallado temporal para este caso\n",
    "t,dt = np.linspace(0,15,Nt,retstep=True) \n",
    "#Redifinimos el mallado espacial para aumentarlo\n",
    "x,h = np.linspace(-500,500,Nx,retstep=True) \n",
    "#Recalculamos la función Gaussiana\n",
    "psi = np.exp(-(x-x0)**2/(2*a**2)) #Funcíón Gaussiana\n",
    "\n",
    "#Creamos un array donde se almacenará la densida de probabilidad\n",
    "PArray = np.zeros((Nt,Nx))\n",
    "\n",
    "#Volvemos a crear tanto el Hamiltoniano como el propagador.\n",
    "#Los datos del campo EM estan definidos internamente en la clase\n",
    "#del Hamiltoniano\n",
    "H = Hamiltonian.H(x,Nx,h,t,VBool=True, ABool = True)\n",
    "Prop = CrankNicolson.Propagator(H,Nx,dt)\n",
    "\n",
    "psi0 = psi #De nuevo partimos de la función de onda sin nomarlizar\n",
    "\n",
    "for i in range(len(t)):\n",
    "    H.Update(i) #Actualizamos el Hamiltoniano a la itreación i-ésima\n",
    "    Prop.Update(H) #Actualizamos el porpagador con el nuevo Hamiltoniano\n",
    "    PArray[i] = np.array(np.conjugate(psi0)*psi0)\n",
    "    \n",
    "    psi1 = Prop.Propagate(psi0)  \n",
    "    \n",
    "    #if (i%100== 0): #Rpresentamos solamente los multiplos de 100\n",
    "    #    ax.plot(x,np.conjugate(psi1)*psi1,'b')\n",
    "    \n",
    "    psi0 = psi1 #Preparamos para la siguiente iteración\n",
    "\n",
    "#ax.plot(x,np.conjugate(psi1)*psi1,'r'); #Representamos el estado final"
   ]
  },
  {
   "cell_type": "code",
   "execution_count": 7,
   "metadata": {},
   "outputs": [
    {
     "data": {
      "image/png": "[encoded data removed]",
      "text/plain": [
       "<Figure size 432x288 with 2 Axes>"
      ]
     },
     "metadata": {
      "needs_background": "light"
     },
     "output_type": "display_data"
    }
   ],
   "source": [
    "fig = plt.figure();\n",
    "ax = fig.add_subplot(111);\n",
    "c = ax.pcolormesh(np.transpose(PArray),cmap='RdBu_r')\n",
    "fig.colorbar(c, ax=ax)\n",
    "plt.show()"
   ]
  },
  {
   "cell_type": "code",
   "execution_count": null,
   "metadata": {},
   "outputs": [],
   "source": [
    "PArray[0][500]"
   ]
  },
  {
   "cell_type": "code",
   "execution_count": null,
   "metadata": {},
   "outputs": [],
   "source": []
  },
  {
   "cell_type": "code",
   "execution_count": null,
   "metadata": {},
   "outputs": [],
   "source": [
    "\n"
   ]
  },
  {
   "cell_type": "code",
   "execution_count": null,
   "metadata": {},
   "outputs": [],
   "source": []
  }
 ],
 "metadata": {
  "kernelspec": {
   "display_name": "Python 3",
   "language": "python",
   "name": "python3"
  },
  "language_info": {
   "codemirror_mode": {
    "name": "ipython",
    "version": 3
   },
   "file_extension": ".py",
   "mimetype": "text/x-python",
   "name": "python",
   "nbconvert_exporter": "python",
   "pygments_lexer": "ipython3",
   "version": "3.7.3"
  }
 },
 "nbformat": 4,
 "nbformat_minor": 2
}
